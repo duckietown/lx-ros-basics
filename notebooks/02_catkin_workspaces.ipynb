{
 "cells": [
  {
   "cell_type": "markdown",
   "metadata": {},
   "source": [
    "<span style=\"float:right\">\n",
    "<strong>Disclaimer:</strong>\n",
    "This tutorial is an adaptation of the <a href=\"https://wiki.ros.org/ROS/Tutorials/\">Official ROS tutorial</a> originally released under <a href=\"http://creativecommons.org/licenses/by/3.0/\">Creative Commons Attribution 3.0</a> license.\n",
    "<span>"
   ]
  },
  {
   "cell_type": "markdown",
   "metadata": {},
   "source": [
    "# Catkin Workspaces"
   ]
  },
  {
   "cell_type": "markdown",
   "metadata": {},
   "source": [
    "A catkin workspace is a folder where you modify, build, and install catkin packages. \n",
    "\n",
    "A typical catkin workspace contains five directories, also called _spaces_: `src/`, `build/`, `logs/`, `devel/`, and `install/`, each serving a different role in the software development process.\n",
    "\n",
    "### Source Space\n",
    "The source space (`src/` directory) contains the source code organized in catkin packages. This is where you add source code for the packages you want to build. Each folder within the source space contains one or more catkin packages.\n",
    "\n",
    "### Build Space\n",
    "The build space (`build/` directory) is where catkin keeps its cache information and other intermediate files that result from the process of building (or compiling) a catkin workspace.\n",
    "\n",
    "### Logs Space\n",
    "The logs space (`logs/` directory) is where catkin keeps its logs of the build process. These contain all the `stdout` and `stderr` streams produced during the build process. This data is useful for debugging build errors.\n",
    "\n",
    "### Development (Devel) Space\n",
    "The development space (or devel space, `devel/` directory) is where built artefacts are placed prior to being installed.\n",
    "\n",
    "### Install Space\n",
    "Once artefacts are built, they are installed into the install space (`install/` directory). This is where binaries and libraries will be executed/imported from."
   ]
  },
  {
   "cell_type": "markdown",
   "metadata": {},
   "source": [
    "## Default ROS Workspace\n",
    "\n",
    "You can have multiple catkin workspaces that are active at once.\n",
    "ROS brings its own catkin workspace when installed. In this tutorial we use **ROS Noetic**, which installs its workspace at the path `/opt/ros/noetic/share/`."
   ]
  },
  {
   "cell_type": "markdown",
   "metadata": {},
   "source": [
    "## Create new Catkin Workspace\n",
    "\n",
    "Let's create our own catkin workspace. Using the **EXPLORER** tab on the left-hand side of the screen, note that we have a directory called `packages/`\n",
    "\n",
    "We then create the *source space* by creating a new directory called `src` inside `packages/`.\n",
    "\n",
    "\n",
    "### Build workspace\n",
    "\n",
    "We now proceed with compiling (or building) our newly created (and still empty) workspace.\n",
    "We can do so by opening a new terminal (`Menu -> Terminal -> New Terminal`) and then running the following commands,\n",
    "\n",
    "```{bash}\n",
    "    cd packages/\n",
    "    catkin build -- workspace .\n",
    "```\n",
    "\n",
    "**NOTE:** It is important that we run the command `catkin build` from inside the directory `packages/`.\n",
    "\n",
    "The build process should complete within a few seconds and the summary should report that `1` package was built. This is the `catkin_tools_prebuild` package and is present by default in every new workspace.\n",
    "\n",
    "\n",
    "### Activate workspace\n",
    "\n",
    "Once the workspace is built, we then want to activate the built artefacts. We can do so by running the following command,\n",
    "\n",
    "```{bash}\n",
    "    source ./devel/setup.bash\n",
    "```\n",
    "\n",
    "If everything goes well, this command should return without any errors or output."
   ]
  },
  {
   "cell_type": "markdown",
   "metadata": {},
   "source": [
    "Let's move on to the [next notebook about Catkin packages](../notebooks/03_catkin_packages.ipynb)."
   ]
  },
  {
   "cell_type": "markdown",
   "metadata": {},
   "source": [
    "<span style=\"float:right\">\n",
    "<strong>Disclaimer:</strong>\n",
    "This tutorial is an adaptation of the <a href=\"https://wiki.ros.org/ROS/Tutorials/\">Official ROS tutorial</a> originally released under <a href=\"http://creativecommons.org/licenses/by/3.0/\">Creative Commons Attribution 3.0</a> license.\n",
    "<span>"
   ]
  },
  {
   "cell_type": "markdown",
   "metadata": {},
   "source": []
  }
 ],
 "metadata": {
  "kernelspec": {
   "display_name": "Python 3.8.10 64-bit",
   "language": "python",
   "name": "python3"
  },
  "language_info": {
   "name": "python",
   "version": "3.8.10"
  },
  "orig_nbformat": 4,
  "vscode": {
   "interpreter": {
    "hash": "916dbcbb3f70747c44a77c7bcd40155683ae19c65e1c03b4aa3499c5328201f1"
   }
  }
 },
 "nbformat": 4,
 "nbformat_minor": 2
}
